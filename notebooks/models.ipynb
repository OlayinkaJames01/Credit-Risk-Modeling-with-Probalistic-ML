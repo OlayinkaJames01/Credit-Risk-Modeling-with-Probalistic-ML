{
 "cells": [
  {
   "cell_type": "code",
   "execution_count": 1,
   "metadata": {},
   "outputs": [],
   "source": [
    "import pandas as pd\n",
    "import numpy as np\n",
    "import logging\n",
    "from sklearn.model_selection import train_test_split\n",
    "from sklearn.linear_model import LogisticRegression\n",
    "from sklearn.metrics import roc_auc_score, classification_report, confusion_matrix\n",
    "from sklearn.preprocessing import StandardScaler\n",
    "\n",
    "# Setup logging\n",
    "logging.basicConfig(level=logging.INFO, format='%(asctime)s - %(levelname)s - %(message)s')\n",
    "logger = logging.getLogger()"
   ]
  },
  {
   "cell_type": "code",
   "execution_count": 7,
   "metadata": {},
   "outputs": [],
   "source": [
    "cleaned_train_df = pd.read_pickle('data/cleaned_train.pkl')\n",
    "cleaned_test_df = pd.read_pickle('data/cleaned_test.pkl')"
   ]
  },
  {
   "cell_type": "code",
   "execution_count": 16,
   "metadata": {},
   "outputs": [
    {
     "name": "stderr",
     "output_type": "stream",
     "text": [
      "2025-07-04 21:58:28,780 - INFO - \n",
      "Features shape: (56000, 50), \n",
      "Target distribution:\n",
      "default_status\n",
      "0    42285\n",
      "1    13715\n",
      "Name: count, dtype: int64\n"
     ]
    }
   ],
   "source": [
    "# Prepare feature matrix X and target variable y \n",
    "X = cleaned_train_df.drop(columns=['default_status', 'Applicant_ID'])  # drop ID and target\n",
    "y = cleaned_train_df['default_status']\n",
    "logger.info(f\"\\nFeatures shape: {X.shape} \\nTarget distribution:\\n{y.value_counts()}\")\n"
   ]
  },
  {
   "cell_type": "code",
   "execution_count": 17,
   "metadata": {},
   "outputs": [
    {
     "name": "stderr",
     "output_type": "stream",
     "text": [
      "2025-07-04 22:06:15,204 - INFO - Train shape: (44800, 50), Validation shape: (11200, 50)\n"
     ]
    }
   ],
   "source": [
    "# Split data for training and validation\n",
    "X_train, X_val, y_train, y_val = train_test_split(\n",
    "    X, y, test_size=0.2, random_state=42, stratify=y)\n",
    "\n",
    "logger.info(f\"Train shape: {X_train.shape}, Validation shape: {X_val.shape}\")"
   ]
  },
  {
   "cell_type": "code",
   "execution_count": 19,
   "metadata": {},
   "outputs": [],
   "source": [
    "# Scale features for Logistic Regression\n",
    "scaler = StandardScaler()\n",
    "X_train_scaled = scaler.fit_transform(X_train)\n",
    "X_val_scaled = scaler.transform(X_val)"
   ]
  },
  {
   "cell_type": "code",
   "execution_count": 20,
   "metadata": {},
   "outputs": [
    {
     "name": "stderr",
     "output_type": "stream",
     "text": [
      "2025-07-04 22:09:58,262 - INFO - Logistic Regression model trained.\n"
     ]
    }
   ],
   "source": [
    "# Train Logistic Regression model\n",
    "model = LogisticRegression(max_iter=1000, random_state=42)\n",
    "model.fit(X_train_scaled, y_train)\n",
    "logger.info(\"Logistic Regression model trained.\")"
   ]
  },
  {
   "cell_type": "code",
   "execution_count": 21,
   "metadata": {},
   "outputs": [],
   "source": [
    "# Predict probabilities for validation set\n",
    "y_val_probs = model.predict_proba(X_val_scaled)[:, 1]"
   ]
  },
  {
   "cell_type": "code",
   "execution_count": 22,
   "metadata": {},
   "outputs": [
    {
     "name": "stderr",
     "output_type": "stream",
     "text": [
      "2025-07-04 22:10:56,103 - INFO - Validation ROC-AUC score: 0.8315\n"
     ]
    }
   ],
   "source": [
    "# Evaluate using ROC AUC\n",
    "roc_auc = roc_auc_score(y_val, y_val_probs)\n",
    "logger.info(f\"Validation ROC-AUC score: {roc_auc:.4f}\")"
   ]
  },
  {
   "cell_type": "code",
   "execution_count": 24,
   "metadata": {},
   "outputs": [
    {
     "name": "stderr",
     "output_type": "stream",
     "text": [
      "2025-07-04 22:19:33,746 - INFO - Classification report:\n",
      "              precision    recall  f1-score   support\n",
      "\n",
      "           0       0.83      0.93      0.88      8457\n",
      "           1       0.65      0.42      0.51      2743\n",
      "\n",
      "    accuracy                           0.80     11200\n",
      "   macro avg       0.74      0.67      0.69     11200\n",
      "weighted avg       0.79      0.80      0.79     11200\n",
      "\n"
     ]
    }
   ],
   "source": [
    "# Classification report and confusion matrix at threshold 0.5\n",
    "y_val_preds = (y_val_probs >= 0.5).astype(int)\n",
    "logger.info(\"Classification report:\\n\" + classification_report(y_val, y_val_preds))"
   ]
  },
  {
   "cell_type": "code",
   "execution_count": 25,
   "metadata": {},
   "outputs": [
    {
     "name": "stderr",
     "output_type": "stream",
     "text": [
      "2025-07-04 22:19:38,450 - INFO - Confusion Matrix:\n",
      "[[7838  619]\n",
      " [1593 1150]]\n"
     ]
    }
   ],
   "source": [
    "logger.info(f\"Confusion Matrix:\\n{confusion_matrix(y_val, y_val_preds)}\")"
   ]
  },
  {
   "cell_type": "code",
   "execution_count": null,
   "metadata": {},
   "outputs": [],
   "source": []
  }
 ],
 "metadata": {
  "kernelspec": {
   "display_name": "Python 3",
   "language": "python",
   "name": "python3"
  },
  "language_info": {
   "codemirror_mode": {
    "name": "ipython",
    "version": 3
   },
   "file_extension": ".py",
   "mimetype": "text/x-python",
   "name": "python",
   "nbconvert_exporter": "python",
   "pygments_lexer": "ipython3",
   "version": "3.9.12"
  },
  "orig_nbformat": 4
 },
 "nbformat": 4,
 "nbformat_minor": 2
}
